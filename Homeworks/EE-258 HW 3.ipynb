{
 "cells": [
  {
   "cell_type": "markdown",
   "metadata": {},
   "source": [
    "     2. Get the data"
   ]
  },
  {
   "cell_type": "code",
   "execution_count": 1,
   "metadata": {},
   "outputs": [
    {
     "name": "stdout",
     "output_type": "stream",
     "text": [
      "<class 'pandas.core.frame.DataFrame'>\n",
      "Int64Index: 200 entries, 1 to 200\n",
      "Data columns (total 4 columns):\n",
      "TV           200 non-null float64\n",
      "radio        200 non-null float64\n",
      "newspaper    200 non-null float64\n",
      "sales        200 non-null float64\n",
      "dtypes: float64(4)\n",
      "memory usage: 7.8 KB\n",
      "        TV  radio  newspaper  sales\n",
      "1    230.1   37.8       69.2   22.1\n",
      "2     44.5   39.3       45.1   10.4\n",
      "3     17.2   45.9       69.3    9.3\n",
      "4    151.5   41.3       58.5   18.5\n",
      "5    180.8   10.8       58.4   12.9\n",
      "6      8.7   48.9       75.0    7.2\n",
      "7     57.5   32.8       23.5   11.8\n",
      "8    120.2   19.6       11.6   13.2\n",
      "9      8.6    2.1        1.0    4.8\n",
      "10   199.8    2.6       21.2   10.6\n",
      "11    66.1    5.8       24.2    8.6\n",
      "12   214.7   24.0        4.0   17.4\n",
      "13    23.8   35.1       65.9    9.2\n",
      "14    97.5    7.6        7.2    9.7\n",
      "15   204.1   32.9       46.0   19.0\n",
      "16   195.4   47.7       52.9   22.4\n",
      "17    67.8   36.6      114.0   12.5\n",
      "18   281.4   39.6       55.8   24.4\n",
      "19    69.2   20.5       18.3   11.3\n",
      "20   147.3   23.9       19.1   14.6\n",
      "21   218.4   27.7       53.4   18.0\n",
      "22   237.4    5.1       23.5   12.5\n",
      "23    13.2   15.9       49.6    5.6\n",
      "24   228.3   16.9       26.2   15.5\n",
      "25    62.3   12.6       18.3    9.7\n",
      "26   262.9    3.5       19.5   12.0\n",
      "27   142.9   29.3       12.6   15.0\n",
      "28   240.1   16.7       22.9   15.9\n",
      "29   248.8   27.1       22.9   18.9\n",
      "30    70.6   16.0       40.8   10.5\n",
      "..     ...    ...        ...    ...\n",
      "171   50.0   11.6       18.4    8.4\n",
      "172  164.5   20.9       47.4   14.5\n",
      "173   19.6   20.1       17.0    7.6\n",
      "174  168.4    7.1       12.8   11.7\n",
      "175  222.4    3.4       13.1   11.5\n",
      "176  276.9   48.9       41.8   27.0\n",
      "177  248.4   30.2       20.3   20.2\n",
      "178  170.2    7.8       35.2   11.7\n",
      "179  276.7    2.3       23.7   11.8\n",
      "180  165.6   10.0       17.6   12.6\n",
      "181  156.6    2.6        8.3   10.5\n",
      "182  218.5    5.4       27.4   12.2\n",
      "183   56.2    5.7       29.7    8.7\n",
      "184  287.6   43.0       71.8   26.2\n",
      "185  253.8   21.3       30.0   17.6\n",
      "186  205.0   45.1       19.6   22.6\n",
      "187  139.5    2.1       26.6   10.3\n",
      "188  191.1   28.7       18.2   17.3\n",
      "189  286.0   13.9        3.7   15.9\n",
      "190   18.7   12.1       23.4    6.7\n",
      "191   39.5   41.1        5.8   10.8\n",
      "192   75.5   10.8        6.0    9.9\n",
      "193   17.2    4.1       31.6    5.9\n",
      "194  166.8   42.0        3.6   19.6\n",
      "195  149.7   35.6        6.0   17.3\n",
      "196   38.2    3.7       13.8    7.6\n",
      "197   94.2    4.9        8.1    9.7\n",
      "198  177.0    9.3        6.4   12.8\n",
      "199  283.6   42.0       66.2   25.5\n",
      "200  232.1    8.6        8.7   13.4\n",
      "\n",
      "[200 rows x 4 columns]\n"
     ]
    }
   ],
   "source": [
    "import pandas as pd\n",
    "import numpy as np\n",
    "df = pd.read_csv(open(\"F:\\Sem 3\\EE-258\\Homework\\Advertising.csv\"), header=0,index_col=0)\n",
    "df.info()\n",
    "print(df)"
   ]
  },
  {
   "cell_type": "markdown",
   "metadata": {},
   "source": [
    "      3. Linear regression using Normal Equations for a single feature:"
   ]
  },
  {
   "cell_type": "markdown",
   "metadata": {},
   "source": [
    "      a. Find the linear regression coefficient using normal equations assuming TV as the feature (input) and sales as the output variable."
   ]
  },
  {
   "cell_type": "code",
   "execution_count": 2,
   "metadata": {},
   "outputs": [
    {
     "name": "stderr",
     "output_type": "stream",
     "text": [
      "C:\\ProgramData\\Anaconda3\\lib\\site-packages\\sklearn\\cross_validation.py:41: DeprecationWarning: This module was deprecated in version 0.18 in favor of the model_selection module into which all the refactored classes and functions are moved. Also note that the interface of the new CV iterators are different from that of this module. This module will be removed in 0.20.\n",
      "  \"This module will be removed in 0.20.\", DeprecationWarning)\n"
     ]
    }
   ],
   "source": [
    "X = df.drop(['newspaper','sales','radio'],axis=1)\n",
    "y = df.drop(['newspaper','TV','radio'],axis=1)\n",
    "\n",
    "from sklearn.cross_validation import train_test_split\n",
    "X_train, X_test, Y_train, Y_test = train_test_split(X, y, test_size=0.2,random_state = 10)\n",
    "X_train.shape\n",
    "\n",
    "y1 = Y_train\n",
    "x1 = X_train"
   ]
  },
  {
   "cell_type": "code",
   "execution_count": 3,
   "metadata": {},
   "outputs": [
    {
     "data": {
      "text/plain": [
       "LinearRegression(copy_X=True, fit_intercept=True, n_jobs=1, normalize=False)"
      ]
     },
     "execution_count": 3,
     "metadata": {},
     "output_type": "execute_result"
    }
   ],
   "source": [
    "from sklearn.linear_model import LinearRegression\n",
    "\n",
    "linereg = LinearRegression()\n",
    "\n",
    "linereg.fit(X_train,Y_train)"
   ]
  },
  {
   "cell_type": "code",
   "execution_count": 4,
   "metadata": {},
   "outputs": [
    {
     "name": "stdout",
     "output_type": "stream",
     "text": [
      "[ 7.1694064]\n",
      "[[ 0.04590358]]\n"
     ]
    }
   ],
   "source": [
    "print (linereg.intercept_)\n",
    "print (linereg.coef_)"
   ]
  },
  {
   "cell_type": "code",
   "execution_count": 5,
   "metadata": {},
   "outputs": [
    {
     "name": "stdout",
     "output_type": "stream",
     "text": [
      "[[ 16.84129141]\n",
      " [  7.56876758]\n",
      " [ 17.194749  ]\n",
      " [ 20.18766263]\n",
      " [ 17.10294183]\n",
      " [ 13.93100422]\n",
      " [ 15.8176415 ]\n",
      " [ 16.29962912]\n",
      " [ 17.12130326]\n",
      " [  7.95894804]\n",
      " [ 20.46767449]\n",
      " [ 10.20363326]\n",
      " [  7.94517696]\n",
      " [ 17.29114652]\n",
      " [ 17.70427877]\n",
      " [ 11.88370441]\n",
      " [ 18.89318158]\n",
      " [  7.41728575]\n",
      " [ 18.26430249]\n",
      " [ 16.57964098]\n",
      " [ 15.79009935]\n",
      " [  7.20153891]\n",
      " [ 19.16401272]\n",
      " [ 12.25093308]\n",
      " [ 20.03159044]\n",
      " [  8.03239377]\n",
      " [  8.34453814]\n",
      " [  9.21211586]\n",
      " [ 18.18167604]\n",
      " [  8.06911664]\n",
      " [ 13.21490833]\n",
      " [ 17.6354234 ]\n",
      " [  8.43175495]\n",
      " [  8.48224889]\n",
      " [ 20.51357807]\n",
      " [ 19.8709279 ]\n",
      " [ 10.85087379]\n",
      " [ 20.21979514]\n",
      " [ 11.28695783]\n",
      " [ 17.37836333]]\n"
     ]
    }
   ],
   "source": [
    "y_pred = linereg.predict(X_test)\n",
    "print(y_pred)"
   ]
  },
  {
   "cell_type": "code",
   "execution_count": 6,
   "metadata": {},
   "outputs": [
    {
     "data": {
      "text/plain": [
       "array([[ 7.1694064 ],\n",
       "       [ 0.04590358]])"
      ]
     },
     "execution_count": 6,
     "metadata": {},
     "output_type": "execute_result"
    }
   ],
   "source": [
    "import numpy.linalg\n",
    "X_b = np.c_[np.ones((160, 1)), X_train] # add x0 = 1 to each instance\n",
    "theta_best = np.linalg.inv(X_b.T.dot(X_b)).dot(X_b.T).dot(Y_train)\n",
    "theta_best"
   ]
  },
  {
   "cell_type": "code",
   "execution_count": 7,
   "metadata": {},
   "outputs": [
    {
     "name": "stdout",
     "output_type": "stream",
     "text": [
      "[[ 16.84129141]\n",
      " [  7.56876758]\n",
      " [ 17.194749  ]\n",
      " [ 20.18766263]\n",
      " [ 17.10294183]\n",
      " [ 13.93100422]\n",
      " [ 15.8176415 ]\n",
      " [ 16.29962912]\n",
      " [ 17.12130326]\n",
      " [  7.95894804]\n",
      " [ 20.46767449]\n",
      " [ 10.20363326]\n",
      " [  7.94517696]\n",
      " [ 17.29114652]\n",
      " [ 17.70427877]\n",
      " [ 11.88370441]\n",
      " [ 18.89318158]\n",
      " [  7.41728575]\n",
      " [ 18.26430249]\n",
      " [ 16.57964098]\n",
      " [ 15.79009935]\n",
      " [  7.20153891]\n",
      " [ 19.16401272]\n",
      " [ 12.25093308]\n",
      " [ 20.03159044]\n",
      " [  8.03239377]\n",
      " [  8.34453814]\n",
      " [  9.21211586]\n",
      " [ 18.18167604]\n",
      " [  8.06911664]\n",
      " [ 13.21490833]\n",
      " [ 17.6354234 ]\n",
      " [  8.43175495]\n",
      " [  8.48224889]\n",
      " [ 20.51357807]\n",
      " [ 19.8709279 ]\n",
      " [ 10.85087379]\n",
      " [ 20.21979514]\n",
      " [ 11.28695783]\n",
      " [ 17.37836333]]\n",
      "[[ 18.4]\n",
      " [  7.2]\n",
      " [ 18. ]\n",
      " [ 25.5]\n",
      " [ 22.6]\n",
      " [ 14.6]\n",
      " [ 14.9]\n",
      " [ 23.7]\n",
      " [ 22.3]\n",
      " [  9.3]\n",
      " [ 25.4]\n",
      " [  8.6]\n",
      " [  8.7]\n",
      " [ 20.1]\n",
      " [ 19.7]\n",
      " [ 14. ]\n",
      " [ 19.8]\n",
      " [  5.3]\n",
      " [ 21.8]\n",
      " [ 22.6]\n",
      " [ 15.6]\n",
      " [  1.6]\n",
      " [ 24.2]\n",
      " [ 16. ]\n",
      " [ 14.8]\n",
      " [  7. ]\n",
      " [  9.5]\n",
      " [ 10.4]\n",
      " [ 23.2]\n",
      " [  7.6]\n",
      " [ 12.9]\n",
      " [ 21.5]\n",
      " [  6.9]\n",
      " [  7.3]\n",
      " [ 12.8]\n",
      " [ 11.8]\n",
      " [  8.8]\n",
      " [ 15. ]\n",
      " [ 10.6]\n",
      " [ 11.5]]\n"
     ]
    }
   ],
   "source": [
    "X_new_b = np.c_[np.ones((40, 1)), X_test] # add x0 = 1 to each instance\n",
    "y_predict = X_new_b.dot(theta_best)\n",
    "print(y_predict)\n",
    "print(Y_test.values)"
   ]
  },
  {
   "cell_type": "markdown",
   "metadata": {},
   "source": [
    "        Have compared the normal equations and using inbuilt library function"
   ]
  },
  {
   "cell_type": "markdown",
   "metadata": {},
   "source": [
    "       b. Display data points (sales vs TV)\n",
    "       c. On the same figure, display the regression line."
   ]
  },
  {
   "cell_type": "code",
   "execution_count": 8,
   "metadata": {},
   "outputs": [
    {
     "data": {
      "image/png": "[encoded data removed]",
      "text/plain": [
       "<matplotlib.figure.Figure at 0x20d36570780>"
      ]
     },
     "metadata": {},
     "output_type": "display_data"
    },
    {
     "name": "stdout",
     "output_type": "stream",
     "text": [
      "red for test data and blue for training data\n"
     ]
    }
   ],
   "source": [
    "import matplotlib.pyplot as plt\n",
    "%matplotlib inline\n",
    "plt.xlabel('TV')\n",
    "plt.ylabel('sales')\n",
    "plt.plot(X_test, y_predict, \"k-\")\n",
    "plt.plot(X_test, Y_test, \"r.\")\n",
    "plt.plot(X_train, Y_train, \"b.\")\n",
    "plt.show()\n",
    "print(\"red for test data and blue for training data\")"
   ]
  },
  {
   "cell_type": "markdown",
   "metadata": {},
   "source": [
    "     d. Repeat parts a-b for replacing TV with radio and newspaper."
   ]
  },
  {
   "cell_type": "markdown",
   "metadata": {},
   "source": [
    "           Radio"
   ]
  },
  {
   "cell_type": "code",
   "execution_count": 9,
   "metadata": {},
   "outputs": [
    {
     "name": "stdout",
     "output_type": "stream",
     "text": [
      "[[ 12.15136156]\n",
      " [  0.05589846]]\n"
     ]
    }
   ],
   "source": [
    "radio = df.drop(['TV','sales','radio'],axis=1)\n",
    "radio_sales = df.drop(['newspaper','TV','radio'],axis=1)\n",
    "\n",
    "from sklearn.cross_validation import train_test_split\n",
    "radio1_train, radio1_test, radio2_train, radio2_test = train_test_split(radio,radio_sales,test_size=0.2,random_state = 10)\n",
    "\n",
    "radio1_train = radio1_train.values\n",
    "radio2_train = radio2_train.values\n",
    "\n",
    "radio_b = np.c_[np.ones((160, 1)), radio1_train] # add x0 = 1 to each instance\n",
    "theta_radio = np.linalg.inv(radio_b.T.dot(radio_b)).dot(radio_b.T).dot(radio2_train)\n",
    "print(theta_radio)"
   ]
  },
  {
   "cell_type": "code",
   "execution_count": 10,
   "metadata": {},
   "outputs": [
    {
     "name": "stdout",
     "output_type": "stream",
     "text": [
      "[[ 13.1798932 ]\n",
      " [ 12.55383046]\n",
      " [ 13.15753382]\n",
      " [ 13.57677226]\n",
      " [ 13.41466673]\n",
      " [ 12.96747906]\n",
      " [ 12.9842486 ]\n",
      " [ 13.47615504]\n",
      " [ 13.3978972 ]\n",
      " [ 12.67121723]\n",
      " [ 13.57118242]\n",
      " [ 12.6320883 ]\n",
      " [ 12.63767815]\n",
      " [ 13.27492058]\n",
      " [ 13.2525612 ]\n",
      " [ 12.93393998]\n",
      " [ 13.25815105]\n",
      " [ 12.44762339]\n",
      " [ 13.36994797]\n",
      " [ 13.41466673]\n",
      " [ 13.02337752]\n",
      " [ 12.24079909]\n",
      " [ 13.50410427]\n",
      " [ 13.0457369 ]\n",
      " [ 12.97865875]\n",
      " [ 12.54265077]\n",
      " [ 12.68239692]\n",
      " [ 12.73270553]\n",
      " [ 13.44820581]\n",
      " [ 12.57618985]\n",
      " [ 12.87245168]\n",
      " [ 13.35317843]\n",
      " [ 12.53706092]\n",
      " [ 12.55942031]\n",
      " [ 12.86686183]\n",
      " [ 12.81096337]\n",
      " [ 12.643268  ]\n",
      " [ 12.98983844]\n",
      " [ 12.74388522]\n",
      " [ 12.79419384]]\n"
     ]
    }
   ],
   "source": [
    "radio_new_b = np.c_[np.ones((40, 1)), radio2_test] # add x0 = 1 to each instance\n",
    "radio_predict = radio_new_b.dot(theta_radio)\n",
    "print(radio_predict)"
   ]
  },
  {
   "cell_type": "code",
   "execution_count": 11,
   "metadata": {},
   "outputs": [
    {
     "data": {
      "text/plain": [
       "array([ 12.15136156])"
      ]
     },
     "execution_count": 11,
     "metadata": {},
     "output_type": "execute_result"
    }
   ],
   "source": [
    "from sklearn.linear_model import LinearRegression\n",
    "\n",
    "radio2 = LinearRegression()\n",
    "\n",
    "radiomodel = radio2.fit(radio1_train,radio2_train)\n",
    "radio_predict = radio2.predict(radio2_test)\n",
    "radio_predict[:]\n",
    "radiomodel.intercept_"
   ]
  },
  {
   "cell_type": "code",
   "execution_count": 12,
   "metadata": {},
   "outputs": [
    {
     "data": {
      "image/png": "[encoded data removed]",
      "text/plain": [
       "<matplotlib.figure.Figure at 0x20d3658bc50>"
      ]
     },
     "metadata": {},
     "output_type": "display_data"
    }
   ],
   "source": [
    "import matplotlib.pyplot as plt\n",
    "%matplotlib inline\n",
    "plt.xlabel('radio')\n",
    "plt.ylabel('sales')\n",
    "plt.plot(radio1_test, radio2_test, \"k.\")\n",
    "plt.plot(radio1_test, radio_predict, \"b-\",linewidth=4)\n",
    "plt.show()"
   ]
  },
  {
   "cell_type": "markdown",
   "metadata": {},
   "source": [
    "        Newspaper"
   ]
  },
  {
   "cell_type": "code",
   "execution_count": 13,
   "metadata": {},
   "outputs": [
    {
     "name": "stdout",
     "output_type": "stream",
     "text": [
      "[[ 9.24315403]\n",
      " [ 0.2046936 ]]\n"
     ]
    }
   ],
   "source": [
    "news = df.drop(['TV','sales','newspaper'],axis=1)\n",
    "news_sales = df.drop(['newspaper','TV','radio'],axis=1)\n",
    "\n",
    "from sklearn.cross_validation import train_test_split\n",
    "news1_train, news1_test, news2_train, news2_test = train_test_split(news,news_sales,test_size=0.1,random_state = 5)\n",
    "\n",
    "news1_train = news1_train.values\n",
    "news2_train = news2_train.values\n",
    "\n",
    "news_b = np.c_[np.ones((180, 1)), news1_train] # add x0 = 1 to each instance\n",
    "theta_news = np.linalg.inv(news_b.T.dot(news_b)).dot(news_b.T).dot(news2_train)\n",
    "print(theta_news)"
   ]
  },
  {
   "cell_type": "code",
   "execution_count": 14,
   "metadata": {},
   "outputs": [
    {
     "name": "stdout",
     "output_type": "stream",
     "text": [
      "[[ 12.52029139]\n",
      " [ 12.94511968]\n",
      " [ 12.76065476]\n",
      " [ 12.71593599]\n",
      " [ 13.02337752]\n",
      " [ 12.79978368]\n",
      " [ 12.79978368]\n",
      " [ 12.81096337]\n",
      " [ 13.20784243]\n",
      " [ 12.84450245]\n",
      " [ 13.04014706]\n",
      " [ 12.68239692]\n",
      " [ 12.8500923 ]\n",
      " [ 13.07927598]\n",
      " [ 13.47615504]\n",
      " [ 13.30845966]\n",
      " [ 13.18548305]\n",
      " [ 13.35317843]\n",
      " [ 12.67680707]\n",
      " [ 12.75506491]]\n"
     ]
    }
   ],
   "source": [
    "news_new_b = np.c_[np.ones((20, 1)), news2_test] # add x0 = 1 to each instance\n",
    "news_predict = news_new_b.dot(theta_radio)\n",
    "print(news_predict)"
   ]
  },
  {
   "cell_type": "code",
   "execution_count": 15,
   "metadata": {},
   "outputs": [
    {
     "name": "stdout",
     "output_type": "stream",
     "text": [
      "[ 9.24315403]\n"
     ]
    },
    {
     "data": {
      "text/plain": [
       "array([[ 10.59413177],\n",
       "       [ 12.14980311],\n",
       "       [ 11.47431424],\n",
       "       [ 11.31055936],\n",
       "       [ 12.43637415],\n",
       "       [ 11.61759976],\n",
       "       [ 11.61759976],\n",
       "       [ 11.65853848],\n",
       "       [ 13.11186302],\n",
       "       [ 11.78135463],\n",
       "       [ 12.49778223],\n",
       "       [ 11.1877432 ],\n",
       "       [ 11.80182399],\n",
       "       [ 12.64106774],\n",
       "       [ 14.09439229],\n",
       "       [ 13.48031149],\n",
       "       [ 13.02998558],\n",
       "       [ 13.64406637],\n",
       "       [ 11.16727384],\n",
       "       [ 11.45384488]])"
      ]
     },
     "execution_count": 15,
     "metadata": {},
     "output_type": "execute_result"
    }
   ],
   "source": [
    "from sklearn.linear_model import LinearRegression\n",
    "\n",
    "news2 = LinearRegression()\n",
    "\n",
    "newsmodel = news2.fit(news1_train,news2_train)\n",
    "news_predict = news2.predict(news2_test)\n",
    "print(newsmodel.intercept_)\n",
    "news_predict[:]"
   ]
  },
  {
   "cell_type": "code",
   "execution_count": 16,
   "metadata": {},
   "outputs": [
    {
     "data": {
      "image/png": "[encoded data removed]",
      "text/plain": [
       "<matplotlib.figure.Figure at 0x20d35790b70>"
      ]
     },
     "metadata": {},
     "output_type": "display_data"
    }
   ],
   "source": [
    "import matplotlib.pyplot as plt\n",
    "%matplotlib inline\n",
    "plt.xlabel('radio')\n",
    "plt.ylabel('sales')\n",
    "plt.plot(news1_test, news2_test, \"k.\")\n",
    "plt.plot(news1_test, news_predict, \"b-\",linewidth=2)\n",
    "plt.show()"
   ]
  },
  {
   "cell_type": "markdown",
   "metadata": {},
   "source": [
    "        With radio and newspaper both"
   ]
  },
  {
   "cell_type": "code",
   "execution_count": 17,
   "metadata": {},
   "outputs": [
    {
     "data": {
      "text/plain": [
       "(180, 2)"
      ]
     },
     "execution_count": 17,
     "metadata": {},
     "output_type": "execute_result"
    }
   ],
   "source": [
    "X2 = df.drop(['TV','sales'],axis=1)\n",
    "y2 = df.drop(['newspaper','TV','radio'],axis=1)\n",
    "\n",
    "from sklearn.cross_validation import train_test_split\n",
    "X2_train, X2_test, Y2_train, Y2_test = train_test_split(X2,y2,test_size=0.1,random_state = 10)\n",
    "X2_train.shape"
   ]
  },
  {
   "cell_type": "code",
   "execution_count": 18,
   "metadata": {},
   "outputs": [
    {
     "name": "stdout",
     "output_type": "stream",
     "text": [
      "[[ 8.96510435]\n",
      " [ 0.19164563]\n",
      " [ 0.01696807]] (3, 1)\n"
     ]
    }
   ],
   "source": [
    "x2 = X2_train.values\n",
    "y2 = Y2_train.values\n",
    "X2_b = np.c_[np.ones((180, 1)),x2] # add x0 = 1 to each instance\n",
    "theta_best = np.linalg.inv(X2_b.T.dot(X2_b)).dot(X2_b.T).dot(y2)\n",
    "print(theta_best,theta_best.shape)"
   ]
  },
  {
   "cell_type": "code",
   "execution_count": 19,
   "metadata": {},
   "outputs": [
    {
     "name": "stdout",
     "output_type": "stream",
     "text": [
      "[[ 14.77645358]\n",
      " [ 19.60918113]\n",
      " [ 15.17978337]\n",
      " [ 18.13750724]\n",
      " [ 17.62866286]\n",
      " [ 13.86952513]\n",
      " [ 12.86827292]\n",
      " [ 19.45048288]\n",
      " [ 17.83987917]\n",
      " [ 18.93752623]\n",
      " [ 17.94047986]\n",
      " [ 10.48727634]\n",
      " [ 18.85696406]\n",
      " [ 15.97082926]\n",
      " [ 16.41428916]\n",
      " [ 14.78034688]\n",
      " [ 14.21369627]\n",
      " [ 14.85480864]\n",
      " [ 16.64129765]\n",
      " [ 17.94089659]]\n",
      "[[ 18.4]\n",
      " [  7.2]\n",
      " [ 18. ]\n",
      " [ 25.5]\n",
      " [ 22.6]\n",
      " [ 14.6]\n",
      " [ 14.9]\n",
      " [ 23.7]\n",
      " [ 22.3]\n",
      " [  9.3]\n",
      " [ 25.4]\n",
      " [  8.6]\n",
      " [  8.7]\n",
      " [ 20.1]\n",
      " [ 19.7]\n",
      " [ 14. ]\n",
      " [ 19.8]\n",
      " [  5.3]\n",
      " [ 21.8]\n",
      " [ 22.6]]\n"
     ]
    }
   ],
   "source": [
    "X2_new_b = np.c_[np.ones((20, 1)), X2_test] # add x0 = 1 to each instance\n",
    "y2_predict = X2_new_b.dot(theta_best)\n",
    "print(y2_predict)\n",
    "print(Y2_test.values)"
   ]
  },
  {
   "cell_type": "code",
   "execution_count": 20,
   "metadata": {},
   "outputs": [
    {
     "data": {
      "text/plain": [
       "array([[ 14.77645358],\n",
       "       [ 19.60918113],\n",
       "       [ 15.17978337],\n",
       "       [ 18.13750724],\n",
       "       [ 17.62866286],\n",
       "       [ 13.86952513],\n",
       "       [ 12.86827292],\n",
       "       [ 19.45048288],\n",
       "       [ 17.83987917],\n",
       "       [ 18.93752623],\n",
       "       [ 17.94047986],\n",
       "       [ 10.48727634],\n",
       "       [ 18.85696406],\n",
       "       [ 15.97082926],\n",
       "       [ 16.41428916],\n",
       "       [ 14.78034688],\n",
       "       [ 14.21369627],\n",
       "       [ 14.85480864],\n",
       "       [ 16.64129765],\n",
       "       [ 17.94089659]])"
      ]
     },
     "execution_count": 20,
     "metadata": {},
     "output_type": "execute_result"
    }
   ],
   "source": [
    "from sklearn.linear_model import LinearRegression\n",
    "\n",
    "linereg2 = LinearRegression()\n",
    "\n",
    "model = linereg2.fit(X2_train,Y2_train)\n",
    "predictions = linereg2.predict(X2_test)\n",
    "predictions[:]"
   ]
  },
  {
   "cell_type": "code",
   "execution_count": 21,
   "metadata": {},
   "outputs": [
    {
     "name": "stdout",
     "output_type": "stream",
     "text": [
      "[ 8.96510435]\n",
      "[[ 0.19164563  0.01696807]]\n",
      "0.350288504113\n"
     ]
    }
   ],
   "source": [
    "print (linereg2.intercept_)\n",
    "print (linereg2.coef_)\n",
    "print(linereg2.score(X2_train,Y2_train))"
   ]
  },
  {
   "cell_type": "code",
   "execution_count": 22,
   "metadata": {},
   "outputs": [
    {
     "data": {
      "image/png": "[encoded data removed]",
      "text/plain": [
       "<matplotlib.figure.Figure at 0x20d357b10b8>"
      ]
     },
     "metadata": {},
     "output_type": "display_data"
    }
   ],
   "source": [
    "import matplotlib.pyplot as plt\n",
    "%matplotlib inline\n",
    "plt.xlabel('newspaper and radio')\n",
    "plt.ylabel('sales')\n",
    "plt.plot(X2_test, y2_predict, \"k.\")\n",
    "plt.plot(X2_test, Y2_test, \"r.\")\n",
    "plt.show()"
   ]
  },
  {
   "cell_type": "markdown",
   "metadata": {},
   "source": [
    "      e. Discuss the complexity of the Normal Equations computation."
   ]
  },
  {
   "cell_type": "markdown",
   "metadata": {},
   "source": [
    "Ans. In normal equations we computed inverse of X transpose dot X where X is the features. Now if the number of features increase then the matrix size will increase, increasing the complexty of implementation. Generally computational complexity of inverting a matrix is typically about O(n2.4) to O(n3). So normal equations get very slow when there are many features. But normal equations are linear so if they fit in the memory then large training sets can be computed."
   ]
  },
  {
   "cell_type": "markdown",
   "metadata": {},
   "source": [
    "      4. Linear regression using Gradient Descent:"
   ]
  },
  {
   "cell_type": "markdown",
   "metadata": {},
   "source": [
    "      a. Find the linear regression coefficient using gradient descent assuming TV as the feature (input) and sales as the output variable."
   ]
  },
  {
   "cell_type": "code",
   "execution_count": 23,
   "metadata": {},
   "outputs": [
    {
     "name": "stdout",
     "output_type": "stream",
     "text": [
      "(160, 1) (2, 160) (160, 2) (2, 1)\n",
      "[[ 0.05890525]\n",
      " [ 0.42823048]]\n"
     ]
    }
   ],
   "source": [
    "eta = 0.000001 # 1st learning rate\n",
    "X4_b = np.c_[np.ones((160, 1)), x1] # add x0 = 1 to each instance\n",
    "m = 160\n",
    "theta = np.random.randn(2,1) # random initialization\n",
    "print(y1.shape,X4_b.T.shape,X4_b.shape,theta.shape)\n",
    "print(theta)"
   ]
  },
  {
   "cell_type": "code",
   "execution_count": 24,
   "metadata": {},
   "outputs": [
    {
     "name": "stdout",
     "output_type": "stream",
     "text": [
      "[[ 0.05815379]\n",
      " [ 0.27839056]]\n"
     ]
    }
   ],
   "source": [
    "n_iterations = 10\n",
    "for iteration in range(n_iterations):\n",
    "    gradients = 2/m * X4_b.T.dot(X4_b.dot(theta) - y1)\n",
    "    theta = theta - eta * gradients\n",
    "    \n",
    "print(theta)\n"
   ]
  },
  {
   "cell_type": "code",
   "execution_count": 25,
   "metadata": {},
   "outputs": [
    {
     "data": {
      "text/plain": [
       "array([[ 58.7150458 ],\n",
       "       [  2.48015171],\n",
       "       [ 60.85865315],\n",
       "       [ 79.00971798],\n",
       "       [ 60.30187202],\n",
       "       [ 41.06508399],\n",
       "       [ 52.50693621],\n",
       "       [ 55.43003714],\n",
       "       [ 60.41322825],\n",
       "       [  4.84647151],\n",
       "       [ 80.70790043],\n",
       "       [ 18.45977013],\n",
       "       [  4.76295434],\n",
       "       [ 61.44327334],\n",
       "       [ 63.94878842],\n",
       "       [ 28.6488648 ],\n",
       "       [ 71.15910405],\n",
       "       [  1.56146284],\n",
       "       [ 67.34515332],\n",
       "       [ 57.12821959],\n",
       "       [ 52.33990187],\n",
       "       [  0.25302719],\n",
       "       [ 72.80160839],\n",
       "       [ 30.87598932],\n",
       "       [ 78.06319006],\n",
       "       [  5.29189641],\n",
       "       [  7.18495225],\n",
       "       [ 12.44653393],\n",
       "       [ 66.8440503 ],\n",
       "       [  5.51460886],\n",
       "       [ 36.72219118],\n",
       "       [ 63.53120258],\n",
       "       [  7.71389433],\n",
       "       [  8.02012395],\n",
       "       [ 80.98629099],\n",
       "       [ 77.08882308],\n",
       "       [ 22.38507709],\n",
       "       [ 79.20459138],\n",
       "       [ 25.02978746],\n",
       "       [ 61.97221541]])"
      ]
     },
     "execution_count": 25,
     "metadata": {},
     "output_type": "execute_result"
    }
   ],
   "source": [
    "X_new_b = np.c_[np.ones((40, 1)), X_test]\n",
    "y_predict3 = X_new_b.dot(theta)\n",
    "y_predict3"
   ]
  },
  {
   "cell_type": "code",
   "execution_count": 26,
   "metadata": {},
   "outputs": [
    {
     "data": {
      "image/png": "[encoded data removed]",
      "text/plain": [
       "<matplotlib.figure.Figure at 0x20d3665a898>"
      ]
     },
     "metadata": {},
     "output_type": "display_data"
    }
   ],
   "source": [
    "from matplotlib import pyplot as plt\n",
    "%matplotlib inline\n",
    "\n",
    "plt.xlabel('TV')\n",
    "plt.ylabel('sales')\n",
    "plt.plot(X_test,Y_test,'b.')\n",
    "plt.plot(X_test,y_predict3,'r-')\n",
    "plt.show()"
   ]
  },
  {
   "cell_type": "code",
   "execution_count": 27,
   "metadata": {},
   "outputs": [
    {
     "name": "stdout",
     "output_type": "stream",
     "text": [
      "(160, 1) (2, 160) (160, 2) (2, 1)\n"
     ]
    }
   ],
   "source": [
    "eta2 = 0.001 # 2nd learning rate\n",
    "X4_b = np.c_[np.ones((160, 1)), x1] # add x0 = 1 to each instance\n",
    "m = 160\n",
    "theta2 = np.random.randn(2,1) # random initialization\n",
    "print(y1.shape,X4_b.T.shape,X4_b.shape,theta.shape)"
   ]
  },
  {
   "cell_type": "code",
   "execution_count": 28,
   "metadata": {},
   "outputs": [
    {
     "name": "stdout",
     "output_type": "stream",
     "text": [
      "[[  7.18550590e+13]\n",
      " [  1.37070690e+16]]\n"
     ]
    }
   ],
   "source": [
    "n_iterations = 10\n",
    "for iteration in range(n_iterations):\n",
    "    gradients2 = 2/m * X4_b.T.dot(X4_b.dot(theta2) - y1)\n",
    "    theta2 = theta2 - eta2 * gradients2\n",
    "    \n",
    "print(theta2)"
   ]
  },
  {
   "cell_type": "code",
   "execution_count": 29,
   "metadata": {},
   "outputs": [
    {
     "data": {
      "text/plain": [
       "array([[ 58.7150458 ],\n",
       "       [  2.48015171],\n",
       "       [ 60.85865315],\n",
       "       [ 79.00971798],\n",
       "       [ 60.30187202],\n",
       "       [ 41.06508399],\n",
       "       [ 52.50693621],\n",
       "       [ 55.43003714],\n",
       "       [ 60.41322825],\n",
       "       [  4.84647151],\n",
       "       [ 80.70790043],\n",
       "       [ 18.45977013],\n",
       "       [  4.76295434],\n",
       "       [ 61.44327334],\n",
       "       [ 63.94878842],\n",
       "       [ 28.6488648 ],\n",
       "       [ 71.15910405],\n",
       "       [  1.56146284],\n",
       "       [ 67.34515332],\n",
       "       [ 57.12821959],\n",
       "       [ 52.33990187],\n",
       "       [  0.25302719],\n",
       "       [ 72.80160839],\n",
       "       [ 30.87598932],\n",
       "       [ 78.06319006],\n",
       "       [  5.29189641],\n",
       "       [  7.18495225],\n",
       "       [ 12.44653393],\n",
       "       [ 66.8440503 ],\n",
       "       [  5.51460886],\n",
       "       [ 36.72219118],\n",
       "       [ 63.53120258],\n",
       "       [  7.71389433],\n",
       "       [  8.02012395],\n",
       "       [ 80.98629099],\n",
       "       [ 77.08882308],\n",
       "       [ 22.38507709],\n",
       "       [ 79.20459138],\n",
       "       [ 25.02978746],\n",
       "       [ 61.97221541]])"
      ]
     },
     "execution_count": 29,
     "metadata": {},
     "output_type": "execute_result"
    }
   ],
   "source": [
    "X_new_b = np.c_[np.ones((40, 1)), X_test]\n",
    "y_predict4 = X_new_b.dot(theta)\n",
    "y_predict4"
   ]
  },
  {
   "cell_type": "code",
   "execution_count": 30,
   "metadata": {},
   "outputs": [
    {
     "data": {
      "image/png": "[encoded data removed]",
      "text/plain": [
       "<matplotlib.figure.Figure at 0x20d376c8780>"
      ]
     },
     "metadata": {},
     "output_type": "display_data"
    }
   ],
   "source": [
    "from matplotlib import pyplot as plt\n",
    "%matplotlib inline\n",
    "\n",
    "plt.xlabel('TV')\n",
    "plt.ylabel('sales')\n",
    "plt.plot(X_test,Y_test,'b.')\n",
    "plt.plot(X_test,y_predict4,'r-')\n",
    "plt.show()"
   ]
  },
  {
   "cell_type": "code",
   "execution_count": 31,
   "metadata": {},
   "outputs": [
    {
     "name": "stdout",
     "output_type": "stream",
     "text": [
      "(160, 1) (2, 160) (160, 2) (2, 1)\n"
     ]
    }
   ],
   "source": [
    "eta3 = 0.1 # 3rd learning rate\n",
    "X6_b = np.c_[np.ones((160, 1)), x1] # add x0 = 1 to each instance\n",
    "m = 160\n",
    "theta3 = np.random.randn(2,1) # random initialization\n",
    "print(y1.shape,X6_b.T.shape,X6_b.shape,theta.shape)"
   ]
  },
  {
   "cell_type": "code",
   "execution_count": 32,
   "metadata": {},
   "outputs": [
    {
     "name": "stdout",
     "output_type": "stream",
     "text": [
      "[[ -3.51484283e+47]\n",
      " [ -6.70491319e+49]]\n"
     ]
    }
   ],
   "source": [
    "n_iterations = 10\n",
    "for iteration in range(n_iterations):\n",
    "    gradients3 = 2/m * X6_b.T.dot(X6_b.dot(theta3) - y1)\n",
    "    theta3 = theta2 - eta3 * gradients3\n",
    "    \n",
    "print(theta3)"
   ]
  },
  {
   "cell_type": "code",
   "execution_count": 33,
   "metadata": {},
   "outputs": [
    {
     "data": {
      "text/plain": [
       "array([[ 58.7150458 ],\n",
       "       [  2.48015171],\n",
       "       [ 60.85865315],\n",
       "       [ 79.00971798],\n",
       "       [ 60.30187202],\n",
       "       [ 41.06508399],\n",
       "       [ 52.50693621],\n",
       "       [ 55.43003714],\n",
       "       [ 60.41322825],\n",
       "       [  4.84647151],\n",
       "       [ 80.70790043],\n",
       "       [ 18.45977013],\n",
       "       [  4.76295434],\n",
       "       [ 61.44327334],\n",
       "       [ 63.94878842],\n",
       "       [ 28.6488648 ],\n",
       "       [ 71.15910405],\n",
       "       [  1.56146284],\n",
       "       [ 67.34515332],\n",
       "       [ 57.12821959],\n",
       "       [ 52.33990187],\n",
       "       [  0.25302719],\n",
       "       [ 72.80160839],\n",
       "       [ 30.87598932],\n",
       "       [ 78.06319006],\n",
       "       [  5.29189641],\n",
       "       [  7.18495225],\n",
       "       [ 12.44653393],\n",
       "       [ 66.8440503 ],\n",
       "       [  5.51460886],\n",
       "       [ 36.72219118],\n",
       "       [ 63.53120258],\n",
       "       [  7.71389433],\n",
       "       [  8.02012395],\n",
       "       [ 80.98629099],\n",
       "       [ 77.08882308],\n",
       "       [ 22.38507709],\n",
       "       [ 79.20459138],\n",
       "       [ 25.02978746],\n",
       "       [ 61.97221541]])"
      ]
     },
     "execution_count": 33,
     "metadata": {},
     "output_type": "execute_result"
    }
   ],
   "source": [
    "X_new_b = np.c_[np.ones((40, 1)), X_test]\n",
    "y_predict6 = X_new_b.dot(theta)\n",
    "y_predict6"
   ]
  },
  {
   "cell_type": "code",
   "execution_count": 34,
   "metadata": {},
   "outputs": [
    {
     "data": {
      "image/png": "[encoded data removed]",
      "text/plain": [
       "<matplotlib.figure.Figure at 0x20d37c80898>"
      ]
     },
     "metadata": {},
     "output_type": "display_data"
    }
   ],
   "source": [
    "from matplotlib import pyplot as plt\n",
    "%matplotlib inline\n",
    "\n",
    "plt.xlabel('TV')\n",
    "plt.ylabel('sales')\n",
    "plt.plot(X_test,Y_test,'b.')\n",
    "plt.plot(X_test,y_predict4,'r-')\n",
    "plt.show()"
   ]
  },
  {
   "cell_type": "markdown",
   "metadata": {},
   "source": [
    "          5. Multiple linear regression:"
   ]
  },
  {
   "cell_type": "markdown",
   "metadata": {},
   "source": [
    "        a. Use all three features (TV, radio, newspaper) and find a linear relation between the sales and all three features."
   ]
  },
  {
   "cell_type": "code",
   "execution_count": 35,
   "metadata": {},
   "outputs": [
    {
     "data": {
      "text/plain": [
       "(180, 3)"
      ]
     },
     "execution_count": 35,
     "metadata": {},
     "output_type": "execute_result"
    }
   ],
   "source": [
    "X5 = df.drop(['sales'],axis=1)\n",
    "y5 = df.drop(['newspaper','TV','radio'],axis=1)\n",
    "\n",
    "from sklearn.cross_validation import train_test_split\n",
    "X5_train, X5_test, Y5_train, Y5_test = train_test_split(X5, y5, test_size=0.1,random_state = 10)\n",
    "X5_train.shape"
   ]
  },
  {
   "cell_type": "code",
   "execution_count": 36,
   "metadata": {},
   "outputs": [
    {
     "data": {
      "text/plain": [
       "array([[ 3.12945103],\n",
       "       [ 0.04341271],\n",
       "       [ 0.18859869],\n",
       "       [ 0.00395567]])"
      ]
     },
     "execution_count": 36,
     "metadata": {},
     "output_type": "execute_result"
    }
   ],
   "source": [
    "x5 = X5_train.values\n",
    "y5 = Y5_train.values\n",
    "X5_b = np.c_[np.ones((180, 1)), x5] # add x0 = 1 to each instance\n",
    "theta_best = np.linalg.inv(X5_b.T.dot(X5_b)).dot(X5_b.T).dot(y5)\n",
    "theta_best"
   ]
  },
  {
   "cell_type": "code",
   "execution_count": 37,
   "metadata": {},
   "outputs": [
    {
     "data": {
      "text/plain": [
       "array([[ 17.87695771],\n",
       "       [ 13.02629288],\n",
       "       [ 18.04620294],\n",
       "       [ 23.62430536],\n",
       "       [ 20.54517098],\n",
       "       [ 14.10720492],\n",
       "       [ 14.82330664],\n",
       "       [ 21.31835419],\n",
       "       [ 20.92840289],\n",
       "       [ 12.8069575 ],\n",
       "       [ 23.88636744],\n",
       "       [  7.18863063],\n",
       "       [ 12.45852552],\n",
       "       [ 19.11334956],\n",
       "       [ 19.47791591],\n",
       "       [ 13.20368504],\n",
       "       [ 19.3121176 ],\n",
       "       [  9.04016386],\n",
       "       [ 20.88082435],\n",
       "       [ 20.61238828]])"
      ]
     },
     "execution_count": 37,
     "metadata": {},
     "output_type": "execute_result"
    }
   ],
   "source": [
    "X_new_b = np.c_[np.ones((20,1)),X5_test]\n",
    "y_predict5 = X_new_b.dot(theta_best)\n",
    "y_predict5"
   ]
  },
  {
   "cell_type": "code",
   "execution_count": 38,
   "metadata": {},
   "outputs": [
    {
     "name": "stderr",
     "output_type": "stream",
     "text": [
      "C:\\ProgramData\\Anaconda3\\lib\\site-packages\\sklearn\\linear_model\\stochastic_gradient.py:73: DeprecationWarning: n_iter parameter is deprecated in 0.19 and will be removed in 0.21. Use max_iter and tol instead.\n",
      "  DeprecationWarning)\n",
      "C:\\ProgramData\\Anaconda3\\lib\\site-packages\\sklearn\\utils\\validation.py:547: DataConversionWarning: A column-vector y was passed when a 1d array was expected. Please change the shape of y to (n_samples, ), for example using ravel().\n",
      "  y = column_or_1d(y, warn=True)\n"
     ]
    },
    {
     "data": {
      "text/plain": [
       "array([ 16.75293923,   4.51217725,  18.5852188 ,  24.23827348,\n",
       "        18.48632923,  12.19925325,  15.2256974 ,  18.06699765,\n",
       "        18.21580791,   4.86681788,  24.24600525,   5.78174288,\n",
       "         5.37612621,  18.45568971,  20.17890931,   8.78584294,\n",
       "        19.84040876,   1.66944764,  19.73185296,  17.15918096])"
      ]
     },
     "execution_count": 38,
     "metadata": {},
     "output_type": "execute_result"
    }
   ],
   "source": [
    "from sklearn import linear_model\n",
    "clf = linear_model.SGDRegressor(eta0=0.000001,n_iter=10, penalty='none')# normal learning \n",
    "clf.fit(X5_train, Y5_train)\n",
    "\n",
    "clf.predict(X5_test)"
   ]
  },
  {
   "cell_type": "code",
   "execution_count": 39,
   "metadata": {},
   "outputs": [
    {
     "data": {
      "image/png": "[encoded data removed]",
      "text/plain": [
       "<matplotlib.figure.Figure at 0x20d365f29b0>"
      ]
     },
     "metadata": {},
     "output_type": "display_data"
    }
   ],
   "source": [
    "from matplotlib import pyplot as plt\n",
    "%matplotlib inline\n",
    "\n",
    "plt.xlabel('All 3 features')\n",
    "plt.ylabel('sales')\n",
    "plt.plot(X5_test,Y5_test,'b.')\n",
    "plt.plot(X5_test,y_predict5,'r.')\n",
    "plt.show()"
   ]
  },
  {
   "cell_type": "markdown",
   "metadata": {},
   "source": [
    "        b. Compare your results (cost and coefficients) with the results in Problem 3"
   ]
  },
  {
   "cell_type": "markdown",
   "metadata": {},
   "source": [
    "    Ans. The coefficients in problem 3 are very different than in this problem."
   ]
  },
  {
   "cell_type": "markdown",
   "metadata": {},
   "source": [
    "       c. Interpret your results using the correlation coefficient matrix"
   ]
  },
  {
   "cell_type": "code",
   "execution_count": 40,
   "metadata": {},
   "outputs": [
    {
     "name": "stdout",
     "output_type": "stream",
     "text": [
      "                 TV     radio  newspaper     sales\n",
      "TV         1.000000  0.054809   0.056648  0.782224\n",
      "radio      0.054809  1.000000   0.354104  0.576223\n",
      "newspaper  0.056648  0.354104   1.000000  0.228299\n",
      "sales      0.782224  0.576223   0.228299  1.000000\n"
     ]
    }
   ],
   "source": [
    "corr_matrix = df.corr()\n",
    "print (corr_matrix)"
   ]
  },
  {
   "cell_type": "markdown",
   "metadata": {},
   "source": [
    "       7. Linear Regression using tensor-flow:"
   ]
  },
  {
   "cell_type": "markdown",
   "metadata": {},
   "source": [
    "       a. Repeat Problem 5 using tensorflow"
   ]
  },
  {
   "cell_type": "code",
   "execution_count": 41,
   "metadata": {},
   "outputs": [
    {
     "name": "stdout",
     "output_type": "stream",
     "text": [
      "[[ 3.12943363]\n",
      " [ 0.04341276]\n",
      " [ 0.18859901]\n",
      " [ 0.0039553 ]]\n"
     ]
    }
   ],
   "source": [
    "import tensorflow as tf\n",
    "\n",
    "X = tf.constant(X5_b, dtype=tf.float32, name=\"X\")\n",
    "y = tf.constant(Y5_train.values.reshape(-1, 1), dtype=tf.float32, name=\"y\")\n",
    "XT = tf.transpose(X)\n",
    "theta = tf.matmul(tf.matmul(tf.matrix_inverse(tf.matmul(XT, X)), XT), y)\n",
    "\n",
    "with tf.Session() as sess:\n",
    "    theta_value = theta.eval()\n",
    "    \n",
    "print(theta_value)"
   ]
  },
  {
   "cell_type": "markdown",
   "metadata": {
    "collapsed": true
   },
   "source": [
    "       b. Compare the results with Problem 5"
   ]
  },
  {
   "cell_type": "markdown",
   "metadata": {},
   "source": [
    "Ans. The results are the same as problem 5 i.e. theta values are the same. But in tensorflow we got values much faster."
   ]
  },
  {
   "cell_type": "code",
   "execution_count": 42,
   "metadata": {},
   "outputs": [],
   "source": [
    "from sklearn.preprocessing import StandardScaler\n",
    "m=200\n",
    "n=3\n",
    "Scaler1 = StandardScaler()\n",
    "scalerdata = Scaler1.fit_transform(X5)\n",
    "scalerdata1=np.c_[np.ones((m,1)),scalerdata]\n",
    "y7 = df.sales\n",
    "n_epochs= 1000"
   ]
  },
  {
   "cell_type": "code",
   "execution_count": 43,
   "metadata": {},
   "outputs": [
    {
     "ename": "NameError",
     "evalue": "name 'learning_rate' is not defined",
     "output_type": "error",
     "traceback": [
      "\u001b[1;31m---------------------------------------------------------------------------\u001b[0m",
      "\u001b[1;31mNameError\u001b[0m                                 Traceback (most recent call last)",
      "\u001b[1;32m<ipython-input-43-07aee75c9f8c>\u001b[0m in \u001b[0;36m<module>\u001b[1;34m()\u001b[0m\n\u001b[0;32m      9\u001b[0m \u001b[0mmse\u001b[0m \u001b[1;33m=\u001b[0m \u001b[0mtf\u001b[0m\u001b[1;33m.\u001b[0m\u001b[0mreduce_mean\u001b[0m\u001b[1;33m(\u001b[0m\u001b[0mtf\u001b[0m\u001b[1;33m.\u001b[0m\u001b[0msquare\u001b[0m\u001b[1;33m(\u001b[0m\u001b[0merror\u001b[0m\u001b[1;33m)\u001b[0m\u001b[1;33m,\u001b[0m \u001b[0mname\u001b[0m\u001b[1;33m=\u001b[0m\u001b[1;34m\"mse\"\u001b[0m\u001b[1;33m)\u001b[0m\u001b[1;33m\u001b[0m\u001b[0m\n\u001b[0;32m     10\u001b[0m \u001b[0mgradients\u001b[0m \u001b[1;33m=\u001b[0m \u001b[1;36m2\u001b[0m\u001b[1;33m/\u001b[0m\u001b[0mm\u001b[0m \u001b[1;33m*\u001b[0m \u001b[0mtf\u001b[0m\u001b[1;33m.\u001b[0m\u001b[0mmatmul\u001b[0m\u001b[1;33m(\u001b[0m\u001b[0mtf\u001b[0m\u001b[1;33m.\u001b[0m\u001b[0mtranspose\u001b[0m\u001b[1;33m(\u001b[0m\u001b[0mval_1\u001b[0m\u001b[1;33m)\u001b[0m\u001b[1;33m,\u001b[0m \u001b[0merror\u001b[0m\u001b[1;33m)\u001b[0m\u001b[1;33m\u001b[0m\u001b[0m\n\u001b[1;32m---> 11\u001b[1;33m \u001b[0mtraining_op\u001b[0m \u001b[1;33m=\u001b[0m \u001b[0mtf\u001b[0m\u001b[1;33m.\u001b[0m\u001b[0massign\u001b[0m\u001b[1;33m(\u001b[0m\u001b[0mtheta\u001b[0m\u001b[1;33m,\u001b[0m \u001b[0mtheta\u001b[0m \u001b[1;33m-\u001b[0m \u001b[0mlearning_rate\u001b[0m \u001b[1;33m*\u001b[0m \u001b[0mgradients\u001b[0m\u001b[1;33m)\u001b[0m\u001b[1;33m\u001b[0m\u001b[0m\n\u001b[0m\u001b[0;32m     12\u001b[0m \u001b[1;33m\u001b[0m\u001b[0m\n\u001b[0;32m     13\u001b[0m \u001b[1;33m\u001b[0m\u001b[0m\n",
      "\u001b[1;31mNameError\u001b[0m: name 'learning_rate' is not defined"
     ]
    }
   ],
   "source": [
    "tf.reset_default_graph()\n",
    "\n",
    "val_1 = tf.constant(scalerdata1, dtype=tf.float32, name=\"val_1\")\n",
    "val_2 = tf.constant(y7.values.reshape(-1, 1), dtype=tf.float32, name=\"val_2\")\n",
    "theta = tf.Variable(tf.random_uniform([n+1, 1], -1.0, 1.0),dtype=tf.float32, name=\"theta\")\n",
    "\n",
    "y_pred = tf.matmul(val_1, theta, name=\"predictions\")\n",
    "error = y_pred - val_2\n",
    "mse = tf.reduce_mean(tf.square(error), name=\"mse\")\n",
    "gradients = 2/m * tf.matmul(tf.transpose(val_1), error)\n",
    "training_op = tf.assign(theta, theta - learning_rate * gradients)\n",
    "\n",
    "\n",
    "init = tf.global_variables_initializer()\n",
    "with tf.Session() as sess:\n",
    "    sess.run(init)\n",
    "    \n",
    "    for epoch in range(n_epochs):\n",
    "        if epoch % 100 == 0:\n",
    "            print(\"Epoch\", epoch, \"MSE =\", mse.eval())\n",
    "            sess.run(training_op)\n",
    "    best_theta = theta.eval()"
   ]
  },
  {
   "cell_type": "markdown",
   "metadata": {},
   "source": [
    "         c. Visualize training stats using Tensor board"
   ]
  },
  {
   "cell_type": "code",
   "execution_count": null,
   "metadata": {},
   "outputs": [],
   "source": [
    "now = datetime.utcnow().strftime('%Y%m%d%H%M%S')\n",
    "root_logdir = 'tf_hw3'\n",
    "logdir = '{}/run-{}'.format(root_logdir, now)"
   ]
  },
  {
   "cell_type": "code",
   "execution_count": null,
   "metadata": {},
   "outputs": [],
   "source": [
    "mse_summary =tf.summary.scalar('MSE', mse)\n",
    "file_writer = tf.summary.FileWriter(logdir, tf.get_default_graph())"
   ]
  },
  {
   "cell_type": "code",
   "execution_count": null,
   "metadata": {},
   "outputs": [],
   "source": [
    "m=180\n",
    "with tf.name_scope('input'):\n",
    "    x = tf.placeholder(tf.float32, shape=[m,n], name=\"x-input\") \n",
    "\n",
    "with tf.name_scope('input'):\n",
    "    y = tf.placeholder(tf.float32, shape=[m,1], name=\"y-input\")\n",
    "    \n",
    "with tf.name_scope(\"weights\"):\n",
    "    W = tf.Variable(tf.ones([n,1]))\n",
    "    b = tf.Variable(tf.zeros([1]))\n",
    "\n",
    "with tf.name_scope(\"Wx_b\") as scope:\n",
    "    y_ = tf.matmul(x,W)+b\n",
    "\n",
    "with tf.name_scope(\"cost\") as scope:\n",
    "    loss = tf.reduce_mean(tf.square(y - y_))\n",
    "\n",
    "with tf.name_scope('train') as scope:\n",
    "    optimizer = tf.train.GradientDescentOptimizer(0.00001)\n",
    "    train = optimizer.minimize(loss)\n",
    "\n",
    "we = tf.summary.histogram(\"weights\",W)\n",
    "bi = tf.summary.histogram(\"biases\",b)\n",
    "lo = tf.summary.histogram(\"cost\",loss)\n",
    "\n",
    "merged = tf.summary.merge_all()\n",
    "writer = tf.summary.FileWriter(logdir, sess.graph)\n",
    "\n",
    "with tf.Session() as sess:\n",
    "    init = tf.global_variables_initializer()\n",
    "    sess.run(init)\n",
    "    vals = []\n",
    "    \n",
    "    for i in range(m):\n",
    "        if i%10 == 0:\n",
    "            result = we.eval(feed_dict={x:X5_train, y:Y5_train})\n",
    "            writer.add_summary(result, i)\n",
    "            result1 = bi.eval(feed_dict={x:X5_train, y:Y5_train})\n",
    "            writer.add_summary(result1, i)\n",
    "            result2 = bi.eval(feed_dict={x:X5_train, y:Y5_train})\n",
    "            writer.add_summary(result2, i)\n",
    "        else:\n",
    "            val = sess.run([train,loss], feed_dict={x:X5_train, y:Y5_train})\n",
    "            vals.append(val)\n",
    "            W1 = sess.run(W)\n",
    "            B1 = sess.run(b)"
   ]
  }
 ],
 "metadata": {
  "kernelspec": {
   "display_name": "Python 3",
   "language": "python",
   "name": "python3"
  },
  "language_info": {
   "codemirror_mode": {
    "name": "ipython",
    "version": 3
   },
   "file_extension": ".py",
   "mimetype": "text/x-python",
   "name": "python",
   "nbconvert_exporter": "python",
   "pygments_lexer": "ipython3",
   "version": "3.6.1"
  }
 },
 "nbformat": 4,
 "nbformat_minor": 2
}
